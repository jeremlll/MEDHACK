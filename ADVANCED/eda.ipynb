{
 "cells": [
  {
   "cell_type": "markdown",
   "metadata": {},
   "source": [
    "# Medhack test"
   ]
  },
  {
   "cell_type": "code",
   "execution_count": 4,
   "metadata": {},
   "outputs": [],
   "source": [
    "import os\n",
    "import pandas as pd\n",
    "import numpy as np\n",
    "\n",
    "pd.set_option('display.max_columns', None)"
   ]
  },
  {
   "cell_type": "code",
   "execution_count": 2,
   "metadata": {},
   "outputs": [],
   "source": [
    "df = pd.read_csv('conditions.csv')"
   ]
  },
  {
   "cell_type": "code",
   "execution_count": 8,
   "metadata": {},
   "outputs": [
    {
     "data": {
      "text/html": [
       "<div>\n",
       "<style scoped>\n",
       "    .dataframe tbody tr th:only-of-type {\n",
       "        vertical-align: middle;\n",
       "    }\n",
       "\n",
       "    .dataframe tbody tr th {\n",
       "        vertical-align: top;\n",
       "    }\n",
       "\n",
       "    .dataframe thead th {\n",
       "        text-align: right;\n",
       "    }\n",
       "</style>\n",
       "<table border=\"1\" class=\"dataframe\">\n",
       "  <thead>\n",
       "    <tr style=\"text-align: right;\">\n",
       "      <th></th>\n",
       "      <th>START</th>\n",
       "      <th>STOP</th>\n",
       "      <th>PATIENT</th>\n",
       "      <th>ENCOUNTER</th>\n",
       "      <th>SYSTEM</th>\n",
       "      <th>CODE</th>\n",
       "      <th>DESCRIPTION</th>\n",
       "    </tr>\n",
       "  </thead>\n",
       "  <tbody>\n",
       "    <tr>\n",
       "      <th>0</th>\n",
       "      <td>2006-05-11 21:45:39</td>\n",
       "      <td>NaN</td>\n",
       "      <td>b317e7ee-8af7-3e9c-3e0f-646395b8c81a</td>\n",
       "      <td>767c4f8e-ec66-361d-cae8-4aa0ce6b11b5</td>\n",
       "      <td>http://snomed.info/sct</td>\n",
       "      <td>224299000</td>\n",
       "      <td>Received higher education (finding)</td>\n",
       "    </tr>\n",
       "    <tr>\n",
       "      <th>1</th>\n",
       "      <td>2006-05-11 21:45:39</td>\n",
       "      <td>NaN</td>\n",
       "      <td>b317e7ee-8af7-3e9c-3e0f-646395b8c81a</td>\n",
       "      <td>767c4f8e-ec66-361d-cae8-4aa0ce6b11b5</td>\n",
       "      <td>http://snomed.info/sct</td>\n",
       "      <td>713458007</td>\n",
       "      <td>Lack of access to transportation (finding)</td>\n",
       "    </tr>\n",
       "    <tr>\n",
       "      <th>2</th>\n",
       "      <td>2007-05-17 21:45:39</td>\n",
       "      <td>NaN</td>\n",
       "      <td>b317e7ee-8af7-3e9c-3e0f-646395b8c81a</td>\n",
       "      <td>a6190bb0-22a8-005e-f267-a617df6c4528</td>\n",
       "      <td>http://snomed.info/sct</td>\n",
       "      <td>266934004</td>\n",
       "      <td>Transport problem (finding)</td>\n",
       "    </tr>\n",
       "    <tr>\n",
       "      <th>3</th>\n",
       "      <td>2019-05-30 21:45:39</td>\n",
       "      <td>NaN</td>\n",
       "      <td>b317e7ee-8af7-3e9c-3e0f-646395b8c81a</td>\n",
       "      <td>9bb97889-1165-08da-2d0b-c66e7ec49fc4</td>\n",
       "      <td>http://snomed.info/sct</td>\n",
       "      <td>162864005</td>\n",
       "      <td>Body mass index 30+ - obesity (finding)</td>\n",
       "    </tr>\n",
       "    <tr>\n",
       "      <th>4</th>\n",
       "      <td>2019-05-30 21:45:39</td>\n",
       "      <td>NaN</td>\n",
       "      <td>b317e7ee-8af7-3e9c-3e0f-646395b8c81a</td>\n",
       "      <td>9bb97889-1165-08da-2d0b-c66e7ec49fc4</td>\n",
       "      <td>http://snomed.info/sct</td>\n",
       "      <td>160903007</td>\n",
       "      <td>Full-time employment (finding)</td>\n",
       "    </tr>\n",
       "  </tbody>\n",
       "</table>\n",
       "</div>"
      ],
      "text/plain": [
       "                 START STOP                               PATIENT  \\\n",
       "0  2006-05-11 21:45:39  NaN  b317e7ee-8af7-3e9c-3e0f-646395b8c81a   \n",
       "1  2006-05-11 21:45:39  NaN  b317e7ee-8af7-3e9c-3e0f-646395b8c81a   \n",
       "2  2007-05-17 21:45:39  NaN  b317e7ee-8af7-3e9c-3e0f-646395b8c81a   \n",
       "3  2019-05-30 21:45:39  NaN  b317e7ee-8af7-3e9c-3e0f-646395b8c81a   \n",
       "4  2019-05-30 21:45:39  NaN  b317e7ee-8af7-3e9c-3e0f-646395b8c81a   \n",
       "\n",
       "                              ENCOUNTER                  SYSTEM       CODE  \\\n",
       "0  767c4f8e-ec66-361d-cae8-4aa0ce6b11b5  http://snomed.info/sct  224299000   \n",
       "1  767c4f8e-ec66-361d-cae8-4aa0ce6b11b5  http://snomed.info/sct  713458007   \n",
       "2  a6190bb0-22a8-005e-f267-a617df6c4528  http://snomed.info/sct  266934004   \n",
       "3  9bb97889-1165-08da-2d0b-c66e7ec49fc4  http://snomed.info/sct  162864005   \n",
       "4  9bb97889-1165-08da-2d0b-c66e7ec49fc4  http://snomed.info/sct  160903007   \n",
       "\n",
       "                                  DESCRIPTION  \n",
       "0         Received higher education (finding)  \n",
       "1  Lack of access to transportation (finding)  \n",
       "2                 Transport problem (finding)  \n",
       "3     Body mass index 30+ - obesity (finding)  \n",
       "4              Full-time employment (finding)  "
      ]
     },
     "execution_count": 8,
     "metadata": {},
     "output_type": "execute_result"
    }
   ],
   "source": [
    "df.head()\n"
   ]
  },
  {
   "cell_type": "code",
   "execution_count": 16,
   "metadata": {},
   "outputs": [
    {
     "data": {
      "text/plain": [
       "DESCRIPTION\n",
       "Medication review due (situation)    19832\n",
       "Stress (finding)                      7997\n",
       "Full-time employment (finding)        7380\n",
       "Gingivitis (disorder)                 6876\n",
       "Part-time employment (finding)        4468\n",
       "Limited social contact (finding)      2903\n",
       "Social isolation (finding)            2837\n",
       "Not in labor force (finding)          2453\n",
       "Viral sinusitis (disorder)            2118\n",
       "Gingival disease (disorder)           2031\n",
       "Name: count, dtype: int64"
      ]
     },
     "execution_count": 16,
     "metadata": {},
     "output_type": "execute_result"
    }
   ],
   "source": [
    "df.DESCRIPTION.value_counts().head(10)"
   ]
  },
  {
   "cell_type": "code",
   "execution_count": 18,
   "metadata": {},
   "outputs": [
    {
     "name": "stdout",
     "output_type": "stream",
     "text": [
      "Failed to fetch data for 224299000. Status code: 429\n"
     ]
    }
   ],
   "source": [
    "import requests\n",
    "import os\n",
    "import json\n",
    "\n",
    "# SNOMED CT concept code\n",
    "concept_code = \"224299000\"\n",
    "\n",
    "# Base URL for the terminology server's API (replace with your actual URL)\n",
    "base_url = f\"http://snomed.info/sct/{concept_code}\"\n",
    "\n",
    "# Folder where you want to save the data\n",
    "save_folder = \"snomed_data\"\n",
    "\n",
    "# Ensure the folder exists\n",
    "os.makedirs(save_folder, exist_ok=True)\n",
    "\n",
    "# Make the API request\n",
    "response = requests.get(base_url)\n",
    "\n",
    "# Check if the request was successful\n",
    "if response.status_code == 200:\n",
    "    # Parse the JSON response\n",
    "    concept_data = response.json()\n",
    "    \n",
    "    # File path to save the data\n",
    "    file_path = os.path.join(save_folder, f\"{concept_code}.json\")\n",
    "    \n",
    "    # Save the data as a JSON file\n",
    "    with open(file_path, \"w\") as json_file:\n",
    "        json.dump(concept_data, json_file, indent=4)\n",
    "    \n",
    "    print(f\"Concept data for {concept_code} saved to {file_path}\")\n",
    "else:\n",
    "    print(f\"Failed to fetch data for {concept_code}. Status code: {response.status_code}\")"
   ]
  },
  {
   "cell_type": "code",
   "execution_count": null,
   "metadata": {},
   "outputs": [],
   "source": []
  }
 ],
 "metadata": {
  "kernelspec": {
   "display_name": "base",
   "language": "python",
   "name": "python3"
  },
  "language_info": {
   "codemirror_mode": {
    "name": "ipython",
    "version": 3
   },
   "file_extension": ".py",
   "mimetype": "text/x-python",
   "name": "python",
   "nbconvert_exporter": "python",
   "pygments_lexer": "ipython3",
   "version": "3.11.7"
  },
  "orig_nbformat": 4
 },
 "nbformat": 4,
 "nbformat_minor": 2
}
