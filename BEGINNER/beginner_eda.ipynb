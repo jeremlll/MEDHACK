{
 "cells": [
  {
   "cell_type": "markdown",
   "metadata": {},
   "source": [
    "# MEDHACK Beginner Kaggle Competition"
   ]
  },
  {
   "cell_type": "code",
   "execution_count": 7,
   "metadata": {},
   "outputs": [],
   "source": [
    "import os\n",
    "import pandas as pd\n",
    "import numpy as np\n",
    "import seaborn as sns\n",
    "from sklearn.model_selection import train_test_split\n",
    "\n",
    "pd.set_option('display.max_columns', None)"
   ]
  },
  {
   "cell_type": "code",
   "execution_count": 2,
   "metadata": {},
   "outputs": [],
   "source": [
    "df = pd.read_csv(\"train_data.csv\")"
   ]
  },
  {
   "cell_type": "code",
   "execution_count": 3,
   "metadata": {},
   "outputs": [
    {
     "data": {
      "text/html": [
       "<div>\n",
       "<style scoped>\n",
       "    .dataframe tbody tr th:only-of-type {\n",
       "        vertical-align: middle;\n",
       "    }\n",
       "\n",
       "    .dataframe tbody tr th {\n",
       "        vertical-align: top;\n",
       "    }\n",
       "\n",
       "    .dataframe thead th {\n",
       "        text-align: right;\n",
       "    }\n",
       "</style>\n",
       "<table border=\"1\" class=\"dataframe\">\n",
       "  <thead>\n",
       "    <tr style=\"text-align: right;\">\n",
       "      <th></th>\n",
       "      <th>timestamp</th>\n",
       "      <th>patient_id</th>\n",
       "      <th>first_name</th>\n",
       "      <th>last_name</th>\n",
       "      <th>age</th>\n",
       "      <th>gender</th>\n",
       "      <th>address</th>\n",
       "      <th>city</th>\n",
       "      <th>state</th>\n",
       "      <th>postcode</th>\n",
       "      <th>diastolic_bp</th>\n",
       "      <th>systolic_bp</th>\n",
       "      <th>heart_rate</th>\n",
       "      <th>respiratory_rate</th>\n",
       "      <th>oxygen_saturation</th>\n",
       "      <th>state_label</th>\n",
       "    </tr>\n",
       "  </thead>\n",
       "  <tbody>\n",
       "    <tr>\n",
       "      <th>0</th>\n",
       "      <td>2025-01-01 19:00:00</td>\n",
       "      <td>b317e7ee-8af7-3e9c-3e0f-646395b8c81a</td>\n",
       "      <td>Howard613</td>\n",
       "      <td>Altenwerth646</td>\n",
       "      <td>42</td>\n",
       "      <td>M</td>\n",
       "      <td>2/58 JASPER ROAD</td>\n",
       "      <td>BENTLEIGH</td>\n",
       "      <td>VIC</td>\n",
       "      <td>3204</td>\n",
       "      <td>79.9</td>\n",
       "      <td>118.3</td>\n",
       "      <td>74.4</td>\n",
       "      <td>17.1</td>\n",
       "      <td>98.6</td>\n",
       "      <td>0</td>\n",
       "    </tr>\n",
       "    <tr>\n",
       "      <th>1</th>\n",
       "      <td>2025-01-01 19:00:05</td>\n",
       "      <td>b317e7ee-8af7-3e9c-3e0f-646395b8c81a</td>\n",
       "      <td>Howard613</td>\n",
       "      <td>Altenwerth646</td>\n",
       "      <td>42</td>\n",
       "      <td>M</td>\n",
       "      <td>2/58 JASPER ROAD</td>\n",
       "      <td>BENTLEIGH</td>\n",
       "      <td>VIC</td>\n",
       "      <td>3204</td>\n",
       "      <td>79.2</td>\n",
       "      <td>119.0</td>\n",
       "      <td>75.8</td>\n",
       "      <td>16.0</td>\n",
       "      <td>96.0</td>\n",
       "      <td>0</td>\n",
       "    </tr>\n",
       "    <tr>\n",
       "      <th>2</th>\n",
       "      <td>2025-01-01 19:00:10</td>\n",
       "      <td>b317e7ee-8af7-3e9c-3e0f-646395b8c81a</td>\n",
       "      <td>Howard613</td>\n",
       "      <td>Altenwerth646</td>\n",
       "      <td>42</td>\n",
       "      <td>M</td>\n",
       "      <td>2/58 JASPER ROAD</td>\n",
       "      <td>BENTLEIGH</td>\n",
       "      <td>VIC</td>\n",
       "      <td>3204</td>\n",
       "      <td>80.8</td>\n",
       "      <td>119.6</td>\n",
       "      <td>74.3</td>\n",
       "      <td>16.5</td>\n",
       "      <td>96.8</td>\n",
       "      <td>0</td>\n",
       "    </tr>\n",
       "    <tr>\n",
       "      <th>3</th>\n",
       "      <td>2025-01-01 19:00:15</td>\n",
       "      <td>b317e7ee-8af7-3e9c-3e0f-646395b8c81a</td>\n",
       "      <td>Howard613</td>\n",
       "      <td>Altenwerth646</td>\n",
       "      <td>42</td>\n",
       "      <td>M</td>\n",
       "      <td>2/58 JASPER ROAD</td>\n",
       "      <td>BENTLEIGH</td>\n",
       "      <td>VIC</td>\n",
       "      <td>3204</td>\n",
       "      <td>81.3</td>\n",
       "      <td>120.2</td>\n",
       "      <td>75.1</td>\n",
       "      <td>16.9</td>\n",
       "      <td>96.9</td>\n",
       "      <td>0</td>\n",
       "    </tr>\n",
       "    <tr>\n",
       "      <th>4</th>\n",
       "      <td>2025-01-01 19:00:20</td>\n",
       "      <td>b317e7ee-8af7-3e9c-3e0f-646395b8c81a</td>\n",
       "      <td>Howard613</td>\n",
       "      <td>Altenwerth646</td>\n",
       "      <td>42</td>\n",
       "      <td>M</td>\n",
       "      <td>2/58 JASPER ROAD</td>\n",
       "      <td>BENTLEIGH</td>\n",
       "      <td>VIC</td>\n",
       "      <td>3204</td>\n",
       "      <td>79.9</td>\n",
       "      <td>118.2</td>\n",
       "      <td>75.9</td>\n",
       "      <td>16.3</td>\n",
       "      <td>97.2</td>\n",
       "      <td>0</td>\n",
       "    </tr>\n",
       "  </tbody>\n",
       "</table>\n",
       "</div>"
      ],
      "text/plain": [
       "             timestamp                            patient_id first_name  \\\n",
       "0  2025-01-01 19:00:00  b317e7ee-8af7-3e9c-3e0f-646395b8c81a  Howard613   \n",
       "1  2025-01-01 19:00:05  b317e7ee-8af7-3e9c-3e0f-646395b8c81a  Howard613   \n",
       "2  2025-01-01 19:00:10  b317e7ee-8af7-3e9c-3e0f-646395b8c81a  Howard613   \n",
       "3  2025-01-01 19:00:15  b317e7ee-8af7-3e9c-3e0f-646395b8c81a  Howard613   \n",
       "4  2025-01-01 19:00:20  b317e7ee-8af7-3e9c-3e0f-646395b8c81a  Howard613   \n",
       "\n",
       "       last_name  age gender           address       city state  postcode  \\\n",
       "0  Altenwerth646   42      M  2/58 JASPER ROAD  BENTLEIGH   VIC      3204   \n",
       "1  Altenwerth646   42      M  2/58 JASPER ROAD  BENTLEIGH   VIC      3204   \n",
       "2  Altenwerth646   42      M  2/58 JASPER ROAD  BENTLEIGH   VIC      3204   \n",
       "3  Altenwerth646   42      M  2/58 JASPER ROAD  BENTLEIGH   VIC      3204   \n",
       "4  Altenwerth646   42      M  2/58 JASPER ROAD  BENTLEIGH   VIC      3204   \n",
       "\n",
       "   diastolic_bp  systolic_bp  heart_rate  respiratory_rate  oxygen_saturation  \\\n",
       "0          79.9        118.3        74.4              17.1               98.6   \n",
       "1          79.2        119.0        75.8              16.0               96.0   \n",
       "2          80.8        119.6        74.3              16.5               96.8   \n",
       "3          81.3        120.2        75.1              16.9               96.9   \n",
       "4          79.9        118.2        75.9              16.3               97.2   \n",
       "\n",
       "   state_label  \n",
       "0            0  \n",
       "1            0  \n",
       "2            0  \n",
       "3            0  \n",
       "4            0  "
      ]
     },
     "execution_count": 3,
     "metadata": {},
     "output_type": "execute_result"
    }
   ],
   "source": [
    "df.head()\n"
   ]
  },
  {
   "cell_type": "code",
   "execution_count": 8,
   "metadata": {},
   "outputs": [
    {
     "name": "stdout",
     "output_type": "stream",
     "text": [
      "Training data (features) shape: (9644544, 15)\n",
      "Testing data (features) shape: (2411136, 15)\n",
      "Training data (target) shape: (9644544,)\n",
      "Testing data (target) shape: (2411136,)\n"
     ]
    }
   ],
   "source": [
    "X = df.drop('state_label', axis=1)  # Features (input data)\n",
    "y = df['state_label']  # Target (output data)\n",
    "\n",
    "# Perform train-test split (80% train, 20% test by default)\n",
    "X_train, X_val, y_train, y_val = train_test_split(X, y, test_size=0.2, random_state=7)\n",
    "\n",
    "# Print the shapes of the resulting datasets\n",
    "print(f\"Training data (features) shape: {X_train.shape}\")\n",
    "print(f\"Testing data (features) shape: {X_val.shape}\")\n",
    "print(f\"Training data (target) shape: {y_train.shape}\")\n",
    "print(f\"Testing data (target) shape: {y_val.shape}\")"
   ]
  },
  {
   "cell_type": "code",
   "execution_count": 9,
   "metadata": {},
   "outputs": [
    {
     "data": {
      "text/plain": [
       "9549963     0\n",
       "4638799     0\n",
       "1987395     0\n",
       "11995327    1\n",
       "2729804     1\n",
       "Name: state_label, dtype: int64"
      ]
     },
     "execution_count": 9,
     "metadata": {},
     "output_type": "execute_result"
    }
   ],
   "source": []
  },
  {
   "cell_type": "code",
   "execution_count": null,
   "metadata": {},
   "outputs": [],
   "source": []
  }
 ],
 "metadata": {
  "kernelspec": {
   "display_name": "base",
   "language": "python",
   "name": "python3"
  },
  "language_info": {
   "codemirror_mode": {
    "name": "ipython",
    "version": 3
   },
   "file_extension": ".py",
   "mimetype": "text/x-python",
   "name": "python",
   "nbconvert_exporter": "python",
   "pygments_lexer": "ipython3",
   "version": "3.11.7"
  },
  "orig_nbformat": 4
 },
 "nbformat": 4,
 "nbformat_minor": 2
}
