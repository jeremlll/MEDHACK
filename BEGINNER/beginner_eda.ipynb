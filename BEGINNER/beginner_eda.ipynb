{
 "cells": [
  {
   "cell_type": "markdown",
   "metadata": {},
   "source": [
    "# MEDHACK Beginner Kaggle Competition"
   ]
  },
  {
   "cell_type": "code",
   "execution_count": 33,
   "metadata": {},
   "outputs": [],
   "source": [
    "import os\n",
    "import pandas as pd\n",
    "import numpy as np\n",
    "import seaborn as sns\n",
    "import matplotlib.pyplot as plt\n",
    "\n",
    "from sklearn.model_selection import train_test_split\n",
    "from sklearn.compose import ColumnTransformer\n",
    "from sklearn.impute import SimpleImputer\n",
    "from sklearn.pipeline import Pipeline\n",
    "from sklearn.linear_model import LogisticRegression\n",
    "from sklearn.ensemble import RandomForestClassifier\n",
    "from sklearn.preprocessing import StandardScaler, OneHotEncoder\n",
    "from sklearn.svm import SVC\n",
    "from sklearn.metrics import accuracy_score, f1_score, precision_score, recall_score\n",
    "from sklearn.svm import SVC\n",
    "from sklearn.neural_network import MLPClassifier\n",
    "from sklearn.dummy import DummyClassifier\n",
    "from sklearn.neighbors import KNeighborsClassifier\n",
    "from sklearn.tree import DecisionTreeClassifier\n",
    "\n",
    "\n",
    "pd.set_option('display.max_columns', None)"
   ]
  },
  {
   "cell_type": "code",
   "execution_count": 19,
   "metadata": {},
   "outputs": [],
   "source": [
    "df = pd.read_csv('train_data.csv')\n",
    "X_test = pd.read_csv('test_data.csv')"
   ]
  },
  {
   "cell_type": "code",
   "execution_count": 18,
   "metadata": {},
   "outputs": [
    {
     "name": "stdout",
     "output_type": "stream",
     "text": [
      "Training data (features) shape: (9644544, 15)\n",
      "Testing data (features) shape: (2411136, 15)\n",
      "Training data (target) shape: (9644544,)\n",
      "Testing data (target) shape: (2411136,)\n"
     ]
    }
   ],
   "source": [
    "X = df.drop('state_label', axis=1)  # Features (input data)\n",
    "y = df['state_label']  # Target (output data)\n",
    "\n",
    "# Perform train-test split (80% train, 20% test by default)\n",
    "X_train, X_val, y_train, y_val = train_test_split(X, y, test_size=0.2, random_state=7)\n",
    "\n",
    "# Print the shapes of the resulting datasets\n",
    "print(f\"Training data (features) shape: {X_train.shape}\")\n",
    "print(f\"Testing data (features) shape: {X_val.shape}\")\n",
    "print(f\"Training data (target) shape: {y_train.shape}\")\n",
    "print(f\"Testing data (target) shape: {y_val.shape}\")"
   ]
  },
  {
   "cell_type": "code",
   "execution_count": 23,
   "metadata": {},
   "outputs": [
    {
     "name": "stdout",
     "output_type": "stream",
     "text": [
      "age                    int64\n",
      "gender                object\n",
      "diastolic_bp         float64\n",
      "systolic_bp          float64\n",
      "heart_rate           float64\n",
      "respiratory_rate     float64\n",
      "oxygen_saturation    float64\n",
      "dtype: object\n"
     ]
    }
   ],
   "source": [
    "training_features = X_train[\n",
    "    [\n",
    "        'age',\n",
    "        'gender',\n",
    "        'diastolic_bp',\n",
    "        'systolic_bp',\n",
    "        'heart_rate',\n",
    "        'respiratory_rate',\n",
    "        'oxygen_saturation'\n",
    "    ]\n",
    "]\n",
    "\n",
    "# Display the data types of the selected columns\n",
    "print(training_features.dtypes)"
   ]
  },
  {
   "cell_type": "code",
   "execution_count": 35,
   "metadata": {},
   "outputs": [],
   "source": [
    "# Step 2: Define numeric and categorical features\n",
    "numeric_features = ['age', 'diastolic_bp', 'systolic_bp', 'heart_rate', 'respiratory_rate', 'oxygen_saturation']\n",
    "categorical_features = ['gender']\n",
    "\n",
    "# Step 3: Preprocessing\n",
    "preprocessor = ColumnTransformer(\n",
    "    transformers=[\n",
    "        ('num', Pipeline([\n",
    "            ('imputer', SimpleImputer(strategy='median')),  # Handle missing numeric values\n",
    "            ('scaler', StandardScaler())  # Standardize numeric data\n",
    "        ]), numeric_features),\n",
    "        \n",
    "        ('cat', Pipeline([\n",
    "            ('imputer', SimpleImputer(strategy='most_frequent')),  # Handle missing categorical values\n",
    "            ('onehot', OneHotEncoder(drop='if_binary'))  # Encode binary categorical columns\n",
    "        ]), categorical_features)\n",
    "    ]\n",
    ")\n",
    "\n",
    "# Step 4: Define models (lightweight and quick to train)\n",
    "models = {\n",
    "    'Dummy Classifier': DummyClassifier(strategy='most_frequent'),\n",
    "    'Logistic Regression': LogisticRegression(),\n",
    "    'SVM': SVC(),\n",
    "    # 'MLP': MLPClassifier(hidden_layer_sizes=(32,), max_iter=200),  # Small hidden layer, quick training\n",
    "    'Decision Tree': DecisionTreeClassifier(),\n",
    "    # 'KNN': KNeighborsClassifier(n_neighbors=5)  # Default is 5 neighbors\n",
    "}"
   ]
  },
  {
   "cell_type": "code",
   "execution_count": 36,
   "metadata": {},
   "outputs": [
    {
     "name": "stderr",
     "output_type": "stream",
     "text": [
      "/opt/anaconda3/lib/python3.11/site-packages/sklearn/metrics/_classification.py:1344: UndefinedMetricWarning: Precision is ill-defined and being set to 0.0 in labels with no predicted samples. Use `zero_division` parameter to control this behavior.\n",
      "  _warn_prf(average, modifier, msg_start, len(result))\n"
     ]
    }
   ],
   "source": [
    "# Step 5: Train models and evaluate\n",
    "results = []\n",
    "\n",
    "for model_name, model in models.items():\n",
    "    # Create a pipeline for each model\n",
    "    pipeline = Pipeline([\n",
    "        ('preprocessor', preprocessor),\n",
    "        ('model', model)\n",
    "    ])\n",
    "    \n",
    "    # Train the model\n",
    "    pipeline.fit(X_train, y_train)\n",
    "    \n",
    "    # Predict on the validation set\n",
    "    y_pred = pipeline.predict(X_val)\n",
    "    \n",
    "    # Calculate evaluation metrics\n",
    "    accuracy = accuracy_score(y_val, y_pred)\n",
    "    f1 = f1_score(y_val, y_pred, average='weighted')\n",
    "    precision = precision_score(y_val, y_pred, average='weighted')\n",
    "    recall = recall_score(y_val, y_pred, average='weighted')\n",
    "    \n",
    "    # Store results\n",
    "    results.append({\n",
    "        'Model': model_name,\n",
    "        'Accuracy': accuracy,\n",
    "        'F1 Score': f1,\n",
    "        'Precision': precision,\n",
    "        'Recall': recall\n",
    "    })\n",
    "\n",
    "# Step 6: Convert results to a DataFrame\n",
    "results_df = pd.DataFrame(results)\n",
    "print(\"\\nModel Performance Metrics:\")\n",
    "print(results_df)\n",
    "\n",
    "# Step 7: Plot the metrics\n",
    "metrics_to_plot = ['Accuracy', 'F1 Score', 'Precision', 'Recall']\n",
    "\n",
    "for metric in metrics_to_plot:\n",
    "    plt.figure(figsize=(8, 5))\n",
    "    plt.bar(results_df['Model'], results_df[metric], color='skyblue')\n",
    "    plt.title(f'Model Comparison: {metric}')\n",
    "    plt.ylabel(metric)\n",
    "    plt.xlabel('Model')\n",
    "    plt.ylim(0, 1)\n",
    "    plt.xticks(rotation=45)\n",
    "    plt.show()"
   ]
  },
  {
   "cell_type": "code",
   "execution_count": null,
   "metadata": {},
   "outputs": [],
   "source": []
  }
 ],
 "metadata": {
  "kernelspec": {
   "display_name": "base",
   "language": "python",
   "name": "python3"
  },
  "language_info": {
   "codemirror_mode": {
    "name": "ipython",
    "version": 3
   },
   "file_extension": ".py",
   "mimetype": "text/x-python",
   "name": "python",
   "nbconvert_exporter": "python",
   "pygments_lexer": "ipython3",
   "version": "3.11.7"
  },
  "orig_nbformat": 4
 },
 "nbformat": 4,
 "nbformat_minor": 2
}
